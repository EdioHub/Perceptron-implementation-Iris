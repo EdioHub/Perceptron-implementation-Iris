{
  "nbformat": 4,
  "nbformat_minor": 0,
  "metadata": {
    "colab": {
      "provenance": [],
      "include_colab_link": true
    },
    "kernelspec": {
      "name": "python3",
      "display_name": "Python 3"
    },
    "language_info": {
      "name": "python"
    }
  },
  "cells": [
    {
      "cell_type": "markdown",
      "metadata": {
        "id": "view-in-github",
        "colab_type": "text"
      },
      "source": [
        "<a href=\"https://colab.research.google.com/github/EdioHub/Perceptron-implementation-Iris/blob/main/Perceptron_iris.ipynb\" target=\"_parent\"><img src=\"https://colab.research.google.com/assets/colab-badge.svg\" alt=\"Open In Colab\"/></a>"
      ]
    },
    {
      "cell_type": "markdown",
      "source": [
        "# Introdução\n",
        "Este projeto foi feito com objetivo de implementar um perceptron.\n",
        "\n",
        "Usei um dataset íris, por ser equilibrado e não necessitar de pré-processamento.\n",
        "\n",
        "Ele serviu de basse para implementação de uma função de perceptron para o projeto Perceptron-Diagnóstico de doença cardíaca"
      ],
      "metadata": {
        "id": "OYAOuBjZe4nm"
      }
    },
    {
      "cell_type": "code",
      "execution_count": 1,
      "metadata": {
        "id": "-XL47rkuPTwY"
      },
      "outputs": [],
      "source": [
        "import pandas as pd\n",
        "import numpy as np\n",
        "\n",
        "from sklearn.model_selection import train_test_split"
      ]
    },
    {
      "cell_type": "markdown",
      "source": [],
      "metadata": {
        "id": "EcaaCI-RS8eP"
      }
    },
    {
      "cell_type": "code",
      "source": [
        "from google.colab import drive\n",
        "drive.mount('/content/drive')"
      ],
      "metadata": {
        "id": "KHhtmdF9Ri06",
        "colab": {
          "base_uri": "https://localhost:8080/"
        },
        "outputId": "b88eb384-cb49-4cda-c927-6005b50323aa"
      },
      "execution_count": 2,
      "outputs": [
        {
          "output_type": "stream",
          "name": "stdout",
          "text": [
            "Mounted at /content/drive\n"
          ]
        }
      ]
    },
    {
      "cell_type": "code",
      "source": [
        "caminho =('/content/drive/MyDrive/Projetos git/09-perceptron_iris/ iris.csv')\n",
        "dataset = pd.read_csv(caminho)\n",
        "dataset"
      ],
      "metadata": {
        "colab": {
          "base_uri": "https://localhost:8080/",
          "height": 424
        },
        "id": "z05D_RHwSx4l",
        "outputId": "b719fa99-ee5d-480d-e798-9108f15c0186"
      },
      "execution_count": 3,
      "outputs": [
        {
          "output_type": "execute_result",
          "data": {
            "text/plain": [
              "     Sepal.Length  Sepal.Width  Petal.Length  Petal.Width    Species\n",
              "0             5.1          3.5           1.4          0.2     setosa\n",
              "1             4.9          3.0           1.4          0.2     setosa\n",
              "2             4.7          3.2           1.3          0.2     setosa\n",
              "3             4.6          3.1           1.5          0.2     setosa\n",
              "4             5.0          3.6           1.4          0.2     setosa\n",
              "..            ...          ...           ...          ...        ...\n",
              "145           6.7          3.0           5.2          2.3  virginica\n",
              "146           6.3          2.5           5.0          1.9  virginica\n",
              "147           6.5          3.0           5.2          2.0  virginica\n",
              "148           6.2          3.4           5.4          2.3  virginica\n",
              "149           5.9          3.0           5.1          1.8  virginica\n",
              "\n",
              "[150 rows x 5 columns]"
            ],
            "text/html": [
              "\n",
              "  <div id=\"df-74c104c4-143c-4b95-a645-09d6cb1f2c92\">\n",
              "    <div class=\"colab-df-container\">\n",
              "      <div>\n",
              "<style scoped>\n",
              "    .dataframe tbody tr th:only-of-type {\n",
              "        vertical-align: middle;\n",
              "    }\n",
              "\n",
              "    .dataframe tbody tr th {\n",
              "        vertical-align: top;\n",
              "    }\n",
              "\n",
              "    .dataframe thead th {\n",
              "        text-align: right;\n",
              "    }\n",
              "</style>\n",
              "<table border=\"1\" class=\"dataframe\">\n",
              "  <thead>\n",
              "    <tr style=\"text-align: right;\">\n",
              "      <th></th>\n",
              "      <th>Sepal.Length</th>\n",
              "      <th>Sepal.Width</th>\n",
              "      <th>Petal.Length</th>\n",
              "      <th>Petal.Width</th>\n",
              "      <th>Species</th>\n",
              "    </tr>\n",
              "  </thead>\n",
              "  <tbody>\n",
              "    <tr>\n",
              "      <th>0</th>\n",
              "      <td>5.1</td>\n",
              "      <td>3.5</td>\n",
              "      <td>1.4</td>\n",
              "      <td>0.2</td>\n",
              "      <td>setosa</td>\n",
              "    </tr>\n",
              "    <tr>\n",
              "      <th>1</th>\n",
              "      <td>4.9</td>\n",
              "      <td>3.0</td>\n",
              "      <td>1.4</td>\n",
              "      <td>0.2</td>\n",
              "      <td>setosa</td>\n",
              "    </tr>\n",
              "    <tr>\n",
              "      <th>2</th>\n",
              "      <td>4.7</td>\n",
              "      <td>3.2</td>\n",
              "      <td>1.3</td>\n",
              "      <td>0.2</td>\n",
              "      <td>setosa</td>\n",
              "    </tr>\n",
              "    <tr>\n",
              "      <th>3</th>\n",
              "      <td>4.6</td>\n",
              "      <td>3.1</td>\n",
              "      <td>1.5</td>\n",
              "      <td>0.2</td>\n",
              "      <td>setosa</td>\n",
              "    </tr>\n",
              "    <tr>\n",
              "      <th>4</th>\n",
              "      <td>5.0</td>\n",
              "      <td>3.6</td>\n",
              "      <td>1.4</td>\n",
              "      <td>0.2</td>\n",
              "      <td>setosa</td>\n",
              "    </tr>\n",
              "    <tr>\n",
              "      <th>...</th>\n",
              "      <td>...</td>\n",
              "      <td>...</td>\n",
              "      <td>...</td>\n",
              "      <td>...</td>\n",
              "      <td>...</td>\n",
              "    </tr>\n",
              "    <tr>\n",
              "      <th>145</th>\n",
              "      <td>6.7</td>\n",
              "      <td>3.0</td>\n",
              "      <td>5.2</td>\n",
              "      <td>2.3</td>\n",
              "      <td>virginica</td>\n",
              "    </tr>\n",
              "    <tr>\n",
              "      <th>146</th>\n",
              "      <td>6.3</td>\n",
              "      <td>2.5</td>\n",
              "      <td>5.0</td>\n",
              "      <td>1.9</td>\n",
              "      <td>virginica</td>\n",
              "    </tr>\n",
              "    <tr>\n",
              "      <th>147</th>\n",
              "      <td>6.5</td>\n",
              "      <td>3.0</td>\n",
              "      <td>5.2</td>\n",
              "      <td>2.0</td>\n",
              "      <td>virginica</td>\n",
              "    </tr>\n",
              "    <tr>\n",
              "      <th>148</th>\n",
              "      <td>6.2</td>\n",
              "      <td>3.4</td>\n",
              "      <td>5.4</td>\n",
              "      <td>2.3</td>\n",
              "      <td>virginica</td>\n",
              "    </tr>\n",
              "    <tr>\n",
              "      <th>149</th>\n",
              "      <td>5.9</td>\n",
              "      <td>3.0</td>\n",
              "      <td>5.1</td>\n",
              "      <td>1.8</td>\n",
              "      <td>virginica</td>\n",
              "    </tr>\n",
              "  </tbody>\n",
              "</table>\n",
              "<p>150 rows × 5 columns</p>\n",
              "</div>\n",
              "      <button class=\"colab-df-convert\" onclick=\"convertToInteractive('df-74c104c4-143c-4b95-a645-09d6cb1f2c92')\"\n",
              "              title=\"Convert this dataframe to an interactive table.\"\n",
              "              style=\"display:none;\">\n",
              "        \n",
              "  <svg xmlns=\"http://www.w3.org/2000/svg\" height=\"24px\"viewBox=\"0 0 24 24\"\n",
              "       width=\"24px\">\n",
              "    <path d=\"M0 0h24v24H0V0z\" fill=\"none\"/>\n",
              "    <path d=\"M18.56 5.44l.94 2.06.94-2.06 2.06-.94-2.06-.94-.94-2.06-.94 2.06-2.06.94zm-11 1L8.5 8.5l.94-2.06 2.06-.94-2.06-.94L8.5 2.5l-.94 2.06-2.06.94zm10 10l.94 2.06.94-2.06 2.06-.94-2.06-.94-.94-2.06-.94 2.06-2.06.94z\"/><path d=\"M17.41 7.96l-1.37-1.37c-.4-.4-.92-.59-1.43-.59-.52 0-1.04.2-1.43.59L10.3 9.45l-7.72 7.72c-.78.78-.78 2.05 0 2.83L4 21.41c.39.39.9.59 1.41.59.51 0 1.02-.2 1.41-.59l7.78-7.78 2.81-2.81c.8-.78.8-2.07 0-2.86zM5.41 20L4 18.59l7.72-7.72 1.47 1.35L5.41 20z\"/>\n",
              "  </svg>\n",
              "      </button>\n",
              "      \n",
              "  <style>\n",
              "    .colab-df-container {\n",
              "      display:flex;\n",
              "      flex-wrap:wrap;\n",
              "      gap: 12px;\n",
              "    }\n",
              "\n",
              "    .colab-df-convert {\n",
              "      background-color: #E8F0FE;\n",
              "      border: none;\n",
              "      border-radius: 50%;\n",
              "      cursor: pointer;\n",
              "      display: none;\n",
              "      fill: #1967D2;\n",
              "      height: 32px;\n",
              "      padding: 0 0 0 0;\n",
              "      width: 32px;\n",
              "    }\n",
              "\n",
              "    .colab-df-convert:hover {\n",
              "      background-color: #E2EBFA;\n",
              "      box-shadow: 0px 1px 2px rgba(60, 64, 67, 0.3), 0px 1px 3px 1px rgba(60, 64, 67, 0.15);\n",
              "      fill: #174EA6;\n",
              "    }\n",
              "\n",
              "    [theme=dark] .colab-df-convert {\n",
              "      background-color: #3B4455;\n",
              "      fill: #D2E3FC;\n",
              "    }\n",
              "\n",
              "    [theme=dark] .colab-df-convert:hover {\n",
              "      background-color: #434B5C;\n",
              "      box-shadow: 0px 1px 3px 1px rgba(0, 0, 0, 0.15);\n",
              "      filter: drop-shadow(0px 1px 2px rgba(0, 0, 0, 0.3));\n",
              "      fill: #FFFFFF;\n",
              "    }\n",
              "  </style>\n",
              "\n",
              "      <script>\n",
              "        const buttonEl =\n",
              "          document.querySelector('#df-74c104c4-143c-4b95-a645-09d6cb1f2c92 button.colab-df-convert');\n",
              "        buttonEl.style.display =\n",
              "          google.colab.kernel.accessAllowed ? 'block' : 'none';\n",
              "\n",
              "        async function convertToInteractive(key) {\n",
              "          const element = document.querySelector('#df-74c104c4-143c-4b95-a645-09d6cb1f2c92');\n",
              "          const dataTable =\n",
              "            await google.colab.kernel.invokeFunction('convertToInteractive',\n",
              "                                                     [key], {});\n",
              "          if (!dataTable) return;\n",
              "\n",
              "          const docLinkHtml = 'Like what you see? Visit the ' +\n",
              "            '<a target=\"_blank\" href=https://colab.research.google.com/notebooks/data_table.ipynb>data table notebook</a>'\n",
              "            + ' to learn more about interactive tables.';\n",
              "          element.innerHTML = '';\n",
              "          dataTable['output_type'] = 'display_data';\n",
              "          await google.colab.output.renderOutput(dataTable, element);\n",
              "          const docLink = document.createElement('div');\n",
              "          docLink.innerHTML = docLinkHtml;\n",
              "          element.appendChild(docLink);\n",
              "        }\n",
              "      </script>\n",
              "    </div>\n",
              "  </div>\n",
              "  "
            ]
          },
          "metadata": {},
          "execution_count": 3
        }
      ]
    },
    {
      "cell_type": "markdown",
      "source": [
        "# Setosa"
      ],
      "metadata": {
        "id": "EQaYOEE7AKzE"
      }
    },
    {
      "cell_type": "markdown",
      "source": [
        "onde no dataset species for = setosa coloca -1, onde não for coloca 1"
      ],
      "metadata": {
        "id": "bG1vESg3NZrN"
      }
    },
    {
      "cell_type": "code",
      "source": [
        "y = dataset['Species']\n",
        "y = np.where(y == 'setosa', -1, 1)\n",
        "y"
      ],
      "metadata": {
        "colab": {
          "base_uri": "https://localhost:8080/"
        },
        "id": "91Wrb0CGS9JT",
        "outputId": "2dbc254a-28d1-4324-8b05-1e12994890c2"
      },
      "execution_count": 4,
      "outputs": [
        {
          "output_type": "execute_result",
          "data": {
            "text/plain": [
              "array([-1, -1, -1, -1, -1, -1, -1, -1, -1, -1, -1, -1, -1, -1, -1, -1, -1,\n",
              "       -1, -1, -1, -1, -1, -1, -1, -1, -1, -1, -1, -1, -1, -1, -1, -1, -1,\n",
              "       -1, -1, -1, -1, -1, -1, -1, -1, -1, -1, -1, -1, -1, -1, -1, -1,  1,\n",
              "        1,  1,  1,  1,  1,  1,  1,  1,  1,  1,  1,  1,  1,  1,  1,  1,  1,\n",
              "        1,  1,  1,  1,  1,  1,  1,  1,  1,  1,  1,  1,  1,  1,  1,  1,  1,\n",
              "        1,  1,  1,  1,  1,  1,  1,  1,  1,  1,  1,  1,  1,  1,  1,  1,  1,\n",
              "        1,  1,  1,  1,  1,  1,  1,  1,  1,  1,  1,  1,  1,  1,  1,  1,  1,\n",
              "        1,  1,  1,  1,  1,  1,  1,  1,  1,  1,  1,  1,  1,  1,  1,  1,  1,\n",
              "        1,  1,  1,  1,  1,  1,  1,  1,  1,  1,  1,  1,  1,  1])"
            ]
          },
          "metadata": {},
          "execution_count": 4
        }
      ]
    },
    {
      "cell_type": "code",
      "source": [
        "X = dataset.drop(['Species'], axis=1)\n",
        "X"
      ],
      "metadata": {
        "colab": {
          "base_uri": "https://localhost:8080/",
          "height": 424
        },
        "id": "MJQ-Kz6DTusH",
        "outputId": "21eb16b8-4f29-4c98-ddd4-7a3771cf40bb"
      },
      "execution_count": 5,
      "outputs": [
        {
          "output_type": "execute_result",
          "data": {
            "text/plain": [
              "     Sepal.Length  Sepal.Width  Petal.Length  Petal.Width\n",
              "0             5.1          3.5           1.4          0.2\n",
              "1             4.9          3.0           1.4          0.2\n",
              "2             4.7          3.2           1.3          0.2\n",
              "3             4.6          3.1           1.5          0.2\n",
              "4             5.0          3.6           1.4          0.2\n",
              "..            ...          ...           ...          ...\n",
              "145           6.7          3.0           5.2          2.3\n",
              "146           6.3          2.5           5.0          1.9\n",
              "147           6.5          3.0           5.2          2.0\n",
              "148           6.2          3.4           5.4          2.3\n",
              "149           5.9          3.0           5.1          1.8\n",
              "\n",
              "[150 rows x 4 columns]"
            ],
            "text/html": [
              "\n",
              "  <div id=\"df-428d5461-40ee-4579-9401-356f69189715\">\n",
              "    <div class=\"colab-df-container\">\n",
              "      <div>\n",
              "<style scoped>\n",
              "    .dataframe tbody tr th:only-of-type {\n",
              "        vertical-align: middle;\n",
              "    }\n",
              "\n",
              "    .dataframe tbody tr th {\n",
              "        vertical-align: top;\n",
              "    }\n",
              "\n",
              "    .dataframe thead th {\n",
              "        text-align: right;\n",
              "    }\n",
              "</style>\n",
              "<table border=\"1\" class=\"dataframe\">\n",
              "  <thead>\n",
              "    <tr style=\"text-align: right;\">\n",
              "      <th></th>\n",
              "      <th>Sepal.Length</th>\n",
              "      <th>Sepal.Width</th>\n",
              "      <th>Petal.Length</th>\n",
              "      <th>Petal.Width</th>\n",
              "    </tr>\n",
              "  </thead>\n",
              "  <tbody>\n",
              "    <tr>\n",
              "      <th>0</th>\n",
              "      <td>5.1</td>\n",
              "      <td>3.5</td>\n",
              "      <td>1.4</td>\n",
              "      <td>0.2</td>\n",
              "    </tr>\n",
              "    <tr>\n",
              "      <th>1</th>\n",
              "      <td>4.9</td>\n",
              "      <td>3.0</td>\n",
              "      <td>1.4</td>\n",
              "      <td>0.2</td>\n",
              "    </tr>\n",
              "    <tr>\n",
              "      <th>2</th>\n",
              "      <td>4.7</td>\n",
              "      <td>3.2</td>\n",
              "      <td>1.3</td>\n",
              "      <td>0.2</td>\n",
              "    </tr>\n",
              "    <tr>\n",
              "      <th>3</th>\n",
              "      <td>4.6</td>\n",
              "      <td>3.1</td>\n",
              "      <td>1.5</td>\n",
              "      <td>0.2</td>\n",
              "    </tr>\n",
              "    <tr>\n",
              "      <th>4</th>\n",
              "      <td>5.0</td>\n",
              "      <td>3.6</td>\n",
              "      <td>1.4</td>\n",
              "      <td>0.2</td>\n",
              "    </tr>\n",
              "    <tr>\n",
              "      <th>...</th>\n",
              "      <td>...</td>\n",
              "      <td>...</td>\n",
              "      <td>...</td>\n",
              "      <td>...</td>\n",
              "    </tr>\n",
              "    <tr>\n",
              "      <th>145</th>\n",
              "      <td>6.7</td>\n",
              "      <td>3.0</td>\n",
              "      <td>5.2</td>\n",
              "      <td>2.3</td>\n",
              "    </tr>\n",
              "    <tr>\n",
              "      <th>146</th>\n",
              "      <td>6.3</td>\n",
              "      <td>2.5</td>\n",
              "      <td>5.0</td>\n",
              "      <td>1.9</td>\n",
              "    </tr>\n",
              "    <tr>\n",
              "      <th>147</th>\n",
              "      <td>6.5</td>\n",
              "      <td>3.0</td>\n",
              "      <td>5.2</td>\n",
              "      <td>2.0</td>\n",
              "    </tr>\n",
              "    <tr>\n",
              "      <th>148</th>\n",
              "      <td>6.2</td>\n",
              "      <td>3.4</td>\n",
              "      <td>5.4</td>\n",
              "      <td>2.3</td>\n",
              "    </tr>\n",
              "    <tr>\n",
              "      <th>149</th>\n",
              "      <td>5.9</td>\n",
              "      <td>3.0</td>\n",
              "      <td>5.1</td>\n",
              "      <td>1.8</td>\n",
              "    </tr>\n",
              "  </tbody>\n",
              "</table>\n",
              "<p>150 rows × 4 columns</p>\n",
              "</div>\n",
              "      <button class=\"colab-df-convert\" onclick=\"convertToInteractive('df-428d5461-40ee-4579-9401-356f69189715')\"\n",
              "              title=\"Convert this dataframe to an interactive table.\"\n",
              "              style=\"display:none;\">\n",
              "        \n",
              "  <svg xmlns=\"http://www.w3.org/2000/svg\" height=\"24px\"viewBox=\"0 0 24 24\"\n",
              "       width=\"24px\">\n",
              "    <path d=\"M0 0h24v24H0V0z\" fill=\"none\"/>\n",
              "    <path d=\"M18.56 5.44l.94 2.06.94-2.06 2.06-.94-2.06-.94-.94-2.06-.94 2.06-2.06.94zm-11 1L8.5 8.5l.94-2.06 2.06-.94-2.06-.94L8.5 2.5l-.94 2.06-2.06.94zm10 10l.94 2.06.94-2.06 2.06-.94-2.06-.94-.94-2.06-.94 2.06-2.06.94z\"/><path d=\"M17.41 7.96l-1.37-1.37c-.4-.4-.92-.59-1.43-.59-.52 0-1.04.2-1.43.59L10.3 9.45l-7.72 7.72c-.78.78-.78 2.05 0 2.83L4 21.41c.39.39.9.59 1.41.59.51 0 1.02-.2 1.41-.59l7.78-7.78 2.81-2.81c.8-.78.8-2.07 0-2.86zM5.41 20L4 18.59l7.72-7.72 1.47 1.35L5.41 20z\"/>\n",
              "  </svg>\n",
              "      </button>\n",
              "      \n",
              "  <style>\n",
              "    .colab-df-container {\n",
              "      display:flex;\n",
              "      flex-wrap:wrap;\n",
              "      gap: 12px;\n",
              "    }\n",
              "\n",
              "    .colab-df-convert {\n",
              "      background-color: #E8F0FE;\n",
              "      border: none;\n",
              "      border-radius: 50%;\n",
              "      cursor: pointer;\n",
              "      display: none;\n",
              "      fill: #1967D2;\n",
              "      height: 32px;\n",
              "      padding: 0 0 0 0;\n",
              "      width: 32px;\n",
              "    }\n",
              "\n",
              "    .colab-df-convert:hover {\n",
              "      background-color: #E2EBFA;\n",
              "      box-shadow: 0px 1px 2px rgba(60, 64, 67, 0.3), 0px 1px 3px 1px rgba(60, 64, 67, 0.15);\n",
              "      fill: #174EA6;\n",
              "    }\n",
              "\n",
              "    [theme=dark] .colab-df-convert {\n",
              "      background-color: #3B4455;\n",
              "      fill: #D2E3FC;\n",
              "    }\n",
              "\n",
              "    [theme=dark] .colab-df-convert:hover {\n",
              "      background-color: #434B5C;\n",
              "      box-shadow: 0px 1px 3px 1px rgba(0, 0, 0, 0.15);\n",
              "      filter: drop-shadow(0px 1px 2px rgba(0, 0, 0, 0.3));\n",
              "      fill: #FFFFFF;\n",
              "    }\n",
              "  </style>\n",
              "\n",
              "      <script>\n",
              "        const buttonEl =\n",
              "          document.querySelector('#df-428d5461-40ee-4579-9401-356f69189715 button.colab-df-convert');\n",
              "        buttonEl.style.display =\n",
              "          google.colab.kernel.accessAllowed ? 'block' : 'none';\n",
              "\n",
              "        async function convertToInteractive(key) {\n",
              "          const element = document.querySelector('#df-428d5461-40ee-4579-9401-356f69189715');\n",
              "          const dataTable =\n",
              "            await google.colab.kernel.invokeFunction('convertToInteractive',\n",
              "                                                     [key], {});\n",
              "          if (!dataTable) return;\n",
              "\n",
              "          const docLinkHtml = 'Like what you see? Visit the ' +\n",
              "            '<a target=\"_blank\" href=https://colab.research.google.com/notebooks/data_table.ipynb>data table notebook</a>'\n",
              "            + ' to learn more about interactive tables.';\n",
              "          element.innerHTML = '';\n",
              "          dataTable['output_type'] = 'display_data';\n",
              "          await google.colab.output.renderOutput(dataTable, element);\n",
              "          const docLink = document.createElement('div');\n",
              "          docLink.innerHTML = docLinkHtml;\n",
              "          element.appendChild(docLink);\n",
              "        }\n",
              "      </script>\n",
              "    </div>\n",
              "  </div>\n",
              "  "
            ]
          },
          "metadata": {},
          "execution_count": 5
        }
      ]
    },
    {
      "cell_type": "code",
      "source": [
        "import seaborn as sns\n"
      ],
      "metadata": {
        "id": "748E-en1F6fY"
      },
      "execution_count": 6,
      "outputs": []
    },
    {
      "cell_type": "code",
      "source": [
        "sns.scatterplot(data=dataset, x=\"Sepal.Length\", y=\"Sepal.Width\",hue=\"Species\")"
      ],
      "metadata": {
        "colab": {
          "base_uri": "https://localhost:8080/",
          "height": 469
        },
        "id": "G4v0-sI4GLef",
        "outputId": "c9ce8720-9e1a-4725-b8fc-49c1587910fe"
      },
      "execution_count": 7,
      "outputs": [
        {
          "output_type": "execute_result",
          "data": {
            "text/plain": [
              "<Axes: xlabel='Sepal.Length', ylabel='Sepal.Width'>"
            ]
          },
          "metadata": {},
          "execution_count": 7
        },
        {
          "output_type": "display_data",
          "data": {
            "text/plain": [
              "<Figure size 640x480 with 1 Axes>"
            ],
            "image/png": "[encoded data removed]"
          },
          "metadata": {}
        }
      ]
    },
    {
      "cell_type": "code",
      "source": [
        "sns.scatterplot(data=dataset, x=\"Sepal.Length\", y=\"Petal.Length\", hue=\"Species\")"
      ],
      "metadata": {
        "colab": {
          "base_uri": "https://localhost:8080/",
          "height": 466
        },
        "id": "GNJIxwkhGLiw",
        "outputId": "ecc6403b-02da-444a-bb73-3917bbb3600a"
      },
      "execution_count": 8,
      "outputs": [
        {
          "output_type": "execute_result",
          "data": {
            "text/plain": [
              "<Axes: xlabel='Sepal.Length', ylabel='Petal.Length'>"
            ]
          },
          "metadata": {},
          "execution_count": 8
        },
        {
          "output_type": "display_data",
          "data": {
            "text/plain": [
              "<Figure size 640x480 with 1 Axes>"
            ],
            "image/png": "[encoded data removed]"
          },
          "metadata": {}
        }
      ]
    },
    {
      "cell_type": "markdown",
      "source": [
        "separação treino e texte"
      ],
      "metadata": {
        "id": "9jL0GjzcOQ7L"
      }
    },
    {
      "cell_type": "code",
      "source": [
        "SEED = 1234\n",
        "X_train,X_test,y_train,y_test = train_test_split(X, y, test_size=0.2,random_state=SEED)"
      ],
      "metadata": {
        "id": "lSj6PmT6UCuP"
      },
      "execution_count": 9,
      "outputs": []
    },
    {
      "cell_type": "code",
      "source": [
        "X_train.shape"
      ],
      "metadata": {
        "colab": {
          "base_uri": "https://localhost:8080/"
        },
        "id": "W3LmkDS4UFJy",
        "outputId": "72a27c57-14fa-41b0-e915-ce952975e0a6"
      },
      "execution_count": 10,
      "outputs": [
        {
          "output_type": "execute_result",
          "data": {
            "text/plain": [
              "(120, 4)"
            ]
          },
          "metadata": {},
          "execution_count": 10
        }
      ]
    },
    {
      "cell_type": "markdown",
      "source": [
        "função degrau de ativação"
      ],
      "metadata": {
        "id": "hY3n_ZioOXdw"
      }
    },
    {
      "cell_type": "code",
      "source": [
        "@np.vectorize\n",
        "def ativacao(u, t):\n",
        "  return (1 if u > t else -1)"
      ],
      "metadata": {
        "id": "n4nL9tWZRi-G"
      },
      "execution_count": 11,
      "outputs": []
    },
    {
      "cell_type": "markdown",
      "source": [
        "#somente visualização\n",
        "componentes da equação do perceptron"
      ],
      "metadata": {
        "id": "tk1Vzb4Os-dE"
      }
    },
    {
      "cell_type": "code",
      "source": [
        " w = np.zeros(X_train.shape[1])\n",
        " print(w)\n",
        " j = np.random.randint(X_train.shape[0])\n",
        " print (j)\n",
        " b = 0.5\n",
        " u = np.sum(w * X_train.iloc[j,]) + b\n",
        " print(u)\n",
        " dataset.iloc[63,]"
      ],
      "metadata": {
        "colab": {
          "base_uri": "https://localhost:8080/"
        },
        "id": "JvaV3_8eqA8o",
        "outputId": "18f9f091-e546-4277-d900-e1247886ee78"
      },
      "execution_count": 12,
      "outputs": [
        {
          "output_type": "stream",
          "name": "stdout",
          "text": [
            "[0. 0. 0. 0.]\n",
            "66\n",
            "0.5\n"
          ]
        },
        {
          "output_type": "execute_result",
          "data": {
            "text/plain": [
              "Sepal.Length           6.1\n",
              "Sepal.Width            2.9\n",
              "Petal.Length           4.7\n",
              "Petal.Width            1.4\n",
              "Species         versicolor\n",
              "Name: 63, dtype: object"
            ]
          },
          "metadata": {},
          "execution_count": 12
        }
      ]
    },
    {
      "cell_type": "markdown",
      "source": [
        "#Implementação do perceptron"
      ],
      "metadata": {
        "id": "7QZjzWSMhlwH"
      }
    },
    {
      "cell_type": "markdown",
      "source": [
        "■ u i = ∑ i w i x i\n",
        "\n",
        "■ w i = w i + η*(y i - ŷ i )*x i\n",
        "\n",
        "■ θ = θ + η*(y i - ŷ i )"
      ],
      "metadata": {
        "id": "cAvuOWKIrknA"
      }
    },
    {
      "cell_type": "code",
      "source": [
        "def perceptron(X_train, y_train, threshold, eta, epochs):\n",
        "  # parametros\n",
        "  b = 0\n",
        "  w = np.zeros(X_train.shape[1])\n",
        "\n",
        "  for i in np.arange(epochs):\n",
        "    print(f\"Epoch: {i}\")\n",
        "    j = np.random.randint(X_train.shape[0])\n",
        "    print(f\"j :{j}\")\n",
        "    u = np.sum(w * X_train.iloc[j,]) + b\n",
        "    y_hat = ativacao(u, threshold)\n",
        "    print(f\"u :{u}\")\n",
        "    print(f\"y_hat :{y_hat}\")\n",
        "    if y_train[j] != y_hat:\n",
        "      w = w + eta*(y_train[j] - y_hat)*X_train.iloc[j,]\n",
        "      b = b + eta*(y_train[j] - y_hat)\n",
        "\n",
        "  return [w, b]"
      ],
      "metadata": {
        "id": "w1F6r7eqSDV1"
      },
      "execution_count": 13,
      "outputs": []
    },
    {
      "cell_type": "code",
      "source": [
        "modelo = perceptron(X_train, y_train, 0.5, 1, 100)"
      ],
      "metadata": {
        "id": "kuIvr_uRSMY9",
        "colab": {
          "base_uri": "https://localhost:8080/"
        },
        "outputId": "b77fee7a-04b2-4336-ee0c-86e746b16606"
      },
      "execution_count": 14,
      "outputs": [
        {
          "output_type": "stream",
          "name": "stdout",
          "text": [
            "Epoch: 0\n",
            "j :72\n",
            "u :0.0\n",
            "y_hat :-1\n",
            "Epoch: 1\n",
            "j :21\n",
            "u :0.0\n",
            "y_hat :-1\n",
            "Epoch: 2\n",
            "j :56\n",
            "u :117.78000000000002\n",
            "y_hat :1\n",
            "Epoch: 3\n",
            "j :112\n",
            "u :52.48\n",
            "y_hat :1\n",
            "Epoch: 4\n",
            "j :13\n",
            "u :49.599999999999994\n",
            "y_hat :1\n",
            "Epoch: 5\n",
            "j :24\n",
            "u :30.499999999999996\n",
            "y_hat :1\n",
            "Epoch: 6\n",
            "j :73\n",
            "u :47.12\n",
            "y_hat :1\n",
            "Epoch: 7\n",
            "j :93\n",
            "u :41.32\n",
            "y_hat :1\n",
            "Epoch: 8\n",
            "j :90\n",
            "u :57.26\n",
            "y_hat :1\n",
            "Epoch: 9\n",
            "j :109\n",
            "u :53.63999999999999\n",
            "y_hat :1\n",
            "Epoch: 10\n",
            "j :53\n",
            "u :52.44\n",
            "y_hat :1\n",
            "Epoch: 11\n",
            "j :9\n",
            "u :30.819999999999997\n",
            "y_hat :1\n",
            "Epoch: 12\n",
            "j :117\n",
            "u :37.54\n",
            "y_hat :1\n",
            "Epoch: 13\n",
            "j :115\n",
            "u :54.88\n",
            "y_hat :1\n",
            "Epoch: 14\n",
            "j :32\n",
            "u :46.919999999999995\n",
            "y_hat :1\n",
            "Epoch: 15\n",
            "j :87\n",
            "u :45.58\n",
            "y_hat :1\n",
            "Epoch: 16\n",
            "j :96\n",
            "u :12.18\n",
            "y_hat :1\n",
            "Epoch: 17\n",
            "j :75\n",
            "u :-47.12000000000001\n",
            "y_hat :-1\n",
            "Epoch: 18\n",
            "j :67\n",
            "u :40.35999999999999\n",
            "y_hat :1\n",
            "Epoch: 19\n",
            "j :99\n",
            "u :17.12000000000001\n",
            "y_hat :1\n",
            "Epoch: 20\n",
            "j :58\n",
            "u :31.28\n",
            "y_hat :1\n",
            "Epoch: 21\n",
            "j :39\n",
            "u :37.03999999999999\n",
            "y_hat :1\n",
            "Epoch: 22\n",
            "j :90\n",
            "u :41.68000000000001\n",
            "y_hat :1\n",
            "Epoch: 23\n",
            "j :14\n",
            "u :36.32000000000001\n",
            "y_hat :1\n",
            "Epoch: 24\n",
            "j :57\n",
            "u :-24.0\n",
            "y_hat :-1\n",
            "Epoch: 25\n",
            "j :56\n",
            "u :-25.559999999999995\n",
            "y_hat :-1\n",
            "Epoch: 26\n",
            "j :82\n",
            "u :-25.039999999999996\n",
            "y_hat :-1\n",
            "Epoch: 27\n",
            "j :65\n",
            "u :21.440000000000012\n",
            "y_hat :1\n",
            "Epoch: 28\n",
            "j :51\n",
            "u :-23.359999999999996\n",
            "y_hat :-1\n",
            "Epoch: 29\n",
            "j :57\n",
            "u :-24.0\n",
            "y_hat :-1\n",
            "Epoch: 30\n",
            "j :110\n",
            "u :52.68000000000001\n",
            "y_hat :1\n",
            "Epoch: 31\n",
            "j :106\n",
            "u :15.880000000000003\n",
            "y_hat :1\n",
            "Epoch: 32\n",
            "j :13\n",
            "u :29.64\n",
            "y_hat :1\n",
            "Epoch: 33\n",
            "j :50\n",
            "u :15.999999999999993\n",
            "y_hat :1\n",
            "Epoch: 34\n",
            "j :98\n",
            "u :37.12\n",
            "y_hat :1\n",
            "Epoch: 35\n",
            "j :95\n",
            "u :-25.719999999999995\n",
            "y_hat :-1\n",
            "Epoch: 36\n",
            "j :91\n",
            "u :33.56\n",
            "y_hat :1\n",
            "Epoch: 37\n",
            "j :35\n",
            "u :-31.759999999999998\n",
            "y_hat :-1\n",
            "Epoch: 38\n",
            "j :42\n",
            "u :-25.92\n",
            "y_hat :-1\n",
            "Epoch: 39\n",
            "j :98\n",
            "u :37.12\n",
            "y_hat :1\n",
            "Epoch: 40\n",
            "j :100\n",
            "u :38.76\n",
            "y_hat :1\n",
            "Epoch: 41\n",
            "j :38\n",
            "u :17.120000000000005\n",
            "y_hat :1\n",
            "Epoch: 42\n",
            "j :59\n",
            "u :31.6\n",
            "y_hat :1\n",
            "Epoch: 43\n",
            "j :106\n",
            "u :15.880000000000003\n",
            "y_hat :1\n",
            "Epoch: 44\n",
            "j :109\n",
            "u :36.68000000000001\n",
            "y_hat :1\n",
            "Epoch: 45\n",
            "j :13\n",
            "u :29.64\n",
            "y_hat :1\n",
            "Epoch: 46\n",
            "j :59\n",
            "u :31.6\n",
            "y_hat :1\n",
            "Epoch: 47\n",
            "j :78\n",
            "u :-23.719999999999995\n",
            "y_hat :-1\n",
            "Epoch: 48\n",
            "j :57\n",
            "u :-24.0\n",
            "y_hat :-1\n",
            "Epoch: 49\n",
            "j :95\n",
            "u :-25.719999999999995\n",
            "y_hat :-1\n",
            "Epoch: 50\n",
            "j :49\n",
            "u :-24.4\n",
            "y_hat :-1\n",
            "Epoch: 51\n",
            "j :34\n",
            "u :-24.479999999999997\n",
            "y_hat :-1\n",
            "Epoch: 52\n",
            "j :16\n",
            "u :36.56\n",
            "y_hat :1\n",
            "Epoch: 53\n",
            "j :90\n",
            "u :41.68000000000001\n",
            "y_hat :1\n",
            "Epoch: 54\n",
            "j :86\n",
            "u :14.68000000000001\n",
            "y_hat :1\n",
            "Epoch: 55\n",
            "j :12\n",
            "u :-29.239999999999988\n",
            "y_hat :-1\n",
            "Epoch: 56\n",
            "j :52\n",
            "u :34.36\n",
            "y_hat :1\n",
            "Epoch: 57\n",
            "j :83\n",
            "u :32.28000000000001\n",
            "y_hat :1\n",
            "Epoch: 58\n",
            "j :93\n",
            "u :16.080000000000005\n",
            "y_hat :1\n",
            "Epoch: 59\n",
            "j :59\n",
            "u :31.6\n",
            "y_hat :1\n",
            "Epoch: 60\n",
            "j :58\n",
            "u :31.28\n",
            "y_hat :1\n",
            "Epoch: 61\n",
            "j :97\n",
            "u :-19.839999999999993\n",
            "y_hat :-1\n",
            "Epoch: 62\n",
            "j :22\n",
            "u :45.48000000000001\n",
            "y_hat :1\n",
            "Epoch: 63\n",
            "j :58\n",
            "u :31.28\n",
            "y_hat :1\n",
            "Epoch: 64\n",
            "j :109\n",
            "u :36.68000000000001\n",
            "y_hat :1\n",
            "Epoch: 65\n",
            "j :61\n",
            "u :-20.0\n",
            "y_hat :-1\n",
            "Epoch: 66\n",
            "j :108\n",
            "u :34.60000000000001\n",
            "y_hat :1\n",
            "Epoch: 67\n",
            "j :99\n",
            "u :17.12000000000001\n",
            "y_hat :1\n",
            "Epoch: 68\n",
            "j :28\n",
            "u :19.720000000000002\n",
            "y_hat :1\n",
            "Epoch: 69\n",
            "j :32\n",
            "u :35.2\n",
            "y_hat :1\n",
            "Epoch: 70\n",
            "j :73\n",
            "u :34.199999999999996\n",
            "y_hat :1\n",
            "Epoch: 71\n",
            "j :77\n",
            "u :18.200000000000006\n",
            "y_hat :1\n",
            "Epoch: 72\n",
            "j :59\n",
            "u :31.6\n",
            "y_hat :1\n",
            "Epoch: 73\n",
            "j :103\n",
            "u :22.72\n",
            "y_hat :1\n",
            "Epoch: 74\n",
            "j :24\n",
            "u :11.280000000000001\n",
            "y_hat :1\n",
            "Epoch: 75\n",
            "j :4\n",
            "u :26.2\n",
            "y_hat :1\n",
            "Epoch: 76\n",
            "j :111\n",
            "u :-20.879999999999995\n",
            "y_hat :-1\n",
            "Epoch: 77\n",
            "j :106\n",
            "u :15.880000000000003\n",
            "y_hat :1\n",
            "Epoch: 78\n",
            "j :65\n",
            "u :21.440000000000012\n",
            "y_hat :1\n",
            "Epoch: 79\n",
            "j :40\n",
            "u :38.040000000000006\n",
            "y_hat :1\n",
            "Epoch: 80\n",
            "j :97\n",
            "u :-19.839999999999993\n",
            "y_hat :-1\n",
            "Epoch: 81\n",
            "j :57\n",
            "u :-24.0\n",
            "y_hat :-1\n",
            "Epoch: 82\n",
            "j :93\n",
            "u :16.080000000000005\n",
            "y_hat :1\n",
            "Epoch: 83\n",
            "j :72\n",
            "u :-23.759999999999998\n",
            "y_hat :-1\n",
            "Epoch: 84\n",
            "j :61\n",
            "u :-20.0\n",
            "y_hat :-1\n",
            "Epoch: 85\n",
            "j :77\n",
            "u :18.200000000000006\n",
            "y_hat :1\n",
            "Epoch: 86\n",
            "j :81\n",
            "u :-25.440000000000005\n",
            "y_hat :-1\n",
            "Epoch: 87\n",
            "j :79\n",
            "u :22.200000000000014\n",
            "y_hat :1\n",
            "Epoch: 88\n",
            "j :89\n",
            "u :14.000000000000007\n",
            "y_hat :1\n",
            "Epoch: 89\n",
            "j :43\n",
            "u :34.36\n",
            "y_hat :1\n",
            "Epoch: 90\n",
            "j :21\n",
            "u :31.36\n",
            "y_hat :1\n",
            "Epoch: 91\n",
            "j :25\n",
            "u :10.920000000000012\n",
            "y_hat :1\n",
            "Epoch: 92\n",
            "j :27\n",
            "u :22.28000000000001\n",
            "y_hat :1\n",
            "Epoch: 93\n",
            "j :46\n",
            "u :-31.36\n",
            "y_hat :-1\n",
            "Epoch: 94\n",
            "j :21\n",
            "u :31.36\n",
            "y_hat :1\n",
            "Epoch: 95\n",
            "j :14\n",
            "u :36.32000000000001\n",
            "y_hat :1\n",
            "Epoch: 96\n",
            "j :14\n",
            "u :36.32000000000001\n",
            "y_hat :1\n",
            "Epoch: 97\n",
            "j :111\n",
            "u :-20.879999999999995\n",
            "y_hat :-1\n",
            "Epoch: 98\n",
            "j :84\n",
            "u :30.200000000000003\n",
            "y_hat :1\n",
            "Epoch: 99\n",
            "j :16\n",
            "u :36.56\n",
            "y_hat :1\n"
          ]
        }
      ]
    },
    {
      "cell_type": "code",
      "source": [
        "modelo"
      ],
      "metadata": {
        "colab": {
          "base_uri": "https://localhost:8080/"
        },
        "id": "3gn9fdElQmqa",
        "outputId": "8ce0150a-5d8c-4a6d-9074-60199dc4b5e0"
      },
      "execution_count": 15,
      "outputs": [
        {
          "output_type": "execute_result",
          "data": {
            "text/plain": [
              "[Sepal.Length    -4.0\n",
              " Sepal.Width     -6.4\n",
              " Petal.Length    12.8\n",
              " Petal.Width      6.0\n",
              " dtype: float64,\n",
              " -2]"
            ]
          },
          "metadata": {},
          "execution_count": 15
        }
      ]
    },
    {
      "cell_type": "code",
      "source": [
        "y_test"
      ],
      "metadata": {
        "colab": {
          "base_uri": "https://localhost:8080/"
        },
        "id": "t9rCWCIIQr2g",
        "outputId": "310ad5fe-e044-48ee-ebfd-efbd86c78dac"
      },
      "execution_count": 16,
      "outputs": [
        {
          "output_type": "execute_result",
          "data": {
            "text/plain": [
              "array([ 1,  1,  1, -1,  1, -1, -1, -1,  1,  1,  1, -1,  1,  1, -1,  1,  1,\n",
              "       -1,  1,  1,  1,  1,  1,  1,  1, -1,  1,  1,  1, -1])"
            ]
          },
          "metadata": {},
          "execution_count": 16
        }
      ]
    },
    {
      "cell_type": "code",
      "source": [
        "def prediction(x, modelo, threshold):\n",
        "  w, b = modelo\n",
        "  u = np.sum(w * x, axis=1) + b\n",
        "  return ativacao(u, threshold)"
      ],
      "metadata": {
        "id": "wyc-zqSDQr7A"
      },
      "execution_count": 17,
      "outputs": []
    },
    {
      "cell_type": "code",
      "source": [
        "y_hat = prediction(X_test, modelo, 0.5)\n",
        "y_hat"
      ],
      "metadata": {
        "colab": {
          "base_uri": "https://localhost:8080/"
        },
        "id": "nhxnrV0gQr-n",
        "outputId": "67bb07c7-2b0b-46a0-9a1b-5a9925d07c57"
      },
      "execution_count": 18,
      "outputs": [
        {
          "output_type": "execute_result",
          "data": {
            "text/plain": [
              "array([ 1,  1,  1, -1,  1, -1, -1, -1,  1,  1,  1, -1,  1,  1, -1,  1,  1,\n",
              "       -1,  1,  1,  1,  1,  1,  1,  1, -1,  1,  1,  1, -1])"
            ]
          },
          "metadata": {},
          "execution_count": 18
        }
      ]
    },
    {
      "cell_type": "code",
      "source": [
        "y_test"
      ],
      "metadata": {
        "colab": {
          "base_uri": "https://localhost:8080/"
        },
        "id": "zh7e_IZZW62J",
        "outputId": "5683171d-9556-489a-a1e3-ecbdd0805451"
      },
      "execution_count": 19,
      "outputs": [
        {
          "output_type": "execute_result",
          "data": {
            "text/plain": [
              "array([ 1,  1,  1, -1,  1, -1, -1, -1,  1,  1,  1, -1,  1,  1, -1,  1,  1,\n",
              "       -1,  1,  1,  1,  1,  1,  1,  1, -1,  1,  1,  1, -1])"
            ]
          },
          "metadata": {},
          "execution_count": 19
        }
      ]
    },
    {
      "cell_type": "code",
      "source": [
        "X_test_with_label = X_test\n",
        "X_test_with_label[\"Correct\"] = y_test == y_hat\n",
        "print(y_test == y_hat)"
      ],
      "metadata": {
        "colab": {
          "base_uri": "https://localhost:8080/"
        },
        "id": "lSXs4KUmdwcp",
        "outputId": "29114f87-73c1-4577-883a-be462d77c0e3"
      },
      "execution_count": 20,
      "outputs": [
        {
          "output_type": "stream",
          "name": "stdout",
          "text": [
            "[ True  True  True  True  True  True  True  True  True  True  True  True\n",
            "  True  True  True  True  True  True  True  True  True  True  True  True\n",
            "  True  True  True  True  True  True]\n"
          ]
        }
      ]
    },
    {
      "cell_type": "markdown",
      "source": [
        "O crosstab vai comparar entre os 2 arrays os pontos coincidentes, acertos"
      ],
      "metadata": {
        "id": "F9dMVs6RaGbw"
      }
    },
    {
      "cell_type": "code",
      "source": [
        "pd.crosstab(y_test, y_hat, rownames=['True'], colnames=['Predicted'], margins=True)"
      ],
      "metadata": {
        "colab": {
          "base_uri": "https://localhost:8080/",
          "height": 175
        },
        "id": "i4V6PngGW7JA",
        "outputId": "a28ed724-e83b-4cef-865a-e0bc7a3913cc"
      },
      "execution_count": 21,
      "outputs": [
        {
          "output_type": "execute_result",
          "data": {
            "text/plain": [
              "Predicted  -1   1  All\n",
              "True                  \n",
              "-1          9   0    9\n",
              "1           0  21   21\n",
              "All         9  21   30"
            ],
            "text/html": [
              "\n",
              "  <div id=\"df-6b4a5bab-9ef7-4429-bfdb-e52b76217e54\">\n",
              "    <div class=\"colab-df-container\">\n",
              "      <div>\n",
              "<style scoped>\n",
              "    .dataframe tbody tr th:only-of-type {\n",
              "        vertical-align: middle;\n",
              "    }\n",
              "\n",
              "    .dataframe tbody tr th {\n",
              "        vertical-align: top;\n",
              "    }\n",
              "\n",
              "    .dataframe thead th {\n",
              "        text-align: right;\n",
              "    }\n",
              "</style>\n",
              "<table border=\"1\" class=\"dataframe\">\n",
              "  <thead>\n",
              "    <tr style=\"text-align: right;\">\n",
              "      <th>Predicted</th>\n",
              "      <th>-1</th>\n",
              "      <th>1</th>\n",
              "      <th>All</th>\n",
              "    </tr>\n",
              "    <tr>\n",
              "      <th>True</th>\n",
              "      <th></th>\n",
              "      <th></th>\n",
              "      <th></th>\n",
              "    </tr>\n",
              "  </thead>\n",
              "  <tbody>\n",
              "    <tr>\n",
              "      <th>-1</th>\n",
              "      <td>9</td>\n",
              "      <td>0</td>\n",
              "      <td>9</td>\n",
              "    </tr>\n",
              "    <tr>\n",
              "      <th>1</th>\n",
              "      <td>0</td>\n",
              "      <td>21</td>\n",
              "      <td>21</td>\n",
              "    </tr>\n",
              "    <tr>\n",
              "      <th>All</th>\n",
              "      <td>9</td>\n",
              "      <td>21</td>\n",
              "      <td>30</td>\n",
              "    </tr>\n",
              "  </tbody>\n",
              "</table>\n",
              "</div>\n",
              "      <button class=\"colab-df-convert\" onclick=\"convertToInteractive('df-6b4a5bab-9ef7-4429-bfdb-e52b76217e54')\"\n",
              "              title=\"Convert this dataframe to an interactive table.\"\n",
              "              style=\"display:none;\">\n",
              "        \n",
              "  <svg xmlns=\"http://www.w3.org/2000/svg\" height=\"24px\"viewBox=\"0 0 24 24\"\n",
              "       width=\"24px\">\n",
              "    <path d=\"M0 0h24v24H0V0z\" fill=\"none\"/>\n",
              "    <path d=\"M18.56 5.44l.94 2.06.94-2.06 2.06-.94-2.06-.94-.94-2.06-.94 2.06-2.06.94zm-11 1L8.5 8.5l.94-2.06 2.06-.94-2.06-.94L8.5 2.5l-.94 2.06-2.06.94zm10 10l.94 2.06.94-2.06 2.06-.94-2.06-.94-.94-2.06-.94 2.06-2.06.94z\"/><path d=\"M17.41 7.96l-1.37-1.37c-.4-.4-.92-.59-1.43-.59-.52 0-1.04.2-1.43.59L10.3 9.45l-7.72 7.72c-.78.78-.78 2.05 0 2.83L4 21.41c.39.39.9.59 1.41.59.51 0 1.02-.2 1.41-.59l7.78-7.78 2.81-2.81c.8-.78.8-2.07 0-2.86zM5.41 20L4 18.59l7.72-7.72 1.47 1.35L5.41 20z\"/>\n",
              "  </svg>\n",
              "      </button>\n",
              "      \n",
              "  <style>\n",
              "    .colab-df-container {\n",
              "      display:flex;\n",
              "      flex-wrap:wrap;\n",
              "      gap: 12px;\n",
              "    }\n",
              "\n",
              "    .colab-df-convert {\n",
              "      background-color: #E8F0FE;\n",
              "      border: none;\n",
              "      border-radius: 50%;\n",
              "      cursor: pointer;\n",
              "      display: none;\n",
              "      fill: #1967D2;\n",
              "      height: 32px;\n",
              "      padding: 0 0 0 0;\n",
              "      width: 32px;\n",
              "    }\n",
              "\n",
              "    .colab-df-convert:hover {\n",
              "      background-color: #E2EBFA;\n",
              "      box-shadow: 0px 1px 2px rgba(60, 64, 67, 0.3), 0px 1px 3px 1px rgba(60, 64, 67, 0.15);\n",
              "      fill: #174EA6;\n",
              "    }\n",
              "\n",
              "    [theme=dark] .colab-df-convert {\n",
              "      background-color: #3B4455;\n",
              "      fill: #D2E3FC;\n",
              "    }\n",
              "\n",
              "    [theme=dark] .colab-df-convert:hover {\n",
              "      background-color: #434B5C;\n",
              "      box-shadow: 0px 1px 3px 1px rgba(0, 0, 0, 0.15);\n",
              "      filter: drop-shadow(0px 1px 2px rgba(0, 0, 0, 0.3));\n",
              "      fill: #FFFFFF;\n",
              "    }\n",
              "  </style>\n",
              "\n",
              "      <script>\n",
              "        const buttonEl =\n",
              "          document.querySelector('#df-6b4a5bab-9ef7-4429-bfdb-e52b76217e54 button.colab-df-convert');\n",
              "        buttonEl.style.display =\n",
              "          google.colab.kernel.accessAllowed ? 'block' : 'none';\n",
              "\n",
              "        async function convertToInteractive(key) {\n",
              "          const element = document.querySelector('#df-6b4a5bab-9ef7-4429-bfdb-e52b76217e54');\n",
              "          const dataTable =\n",
              "            await google.colab.kernel.invokeFunction('convertToInteractive',\n",
              "                                                     [key], {});\n",
              "          if (!dataTable) return;\n",
              "\n",
              "          const docLinkHtml = 'Like what you see? Visit the ' +\n",
              "            '<a target=\"_blank\" href=https://colab.research.google.com/notebooks/data_table.ipynb>data table notebook</a>'\n",
              "            + ' to learn more about interactive tables.';\n",
              "          element.innerHTML = '';\n",
              "          dataTable['output_type'] = 'display_data';\n",
              "          await google.colab.output.renderOutput(dataTable, element);\n",
              "          const docLink = document.createElement('div');\n",
              "          docLink.innerHTML = docLinkHtml;\n",
              "          element.appendChild(docLink);\n",
              "        }\n",
              "      </script>\n",
              "    </div>\n",
              "  </div>\n",
              "  "
            ]
          },
          "metadata": {},
          "execution_count": 21
        }
      ]
    },
    {
      "cell_type": "markdown",
      "source": [
        "#Validação"
      ],
      "metadata": {
        "id": "TkJ1l1AnYLFl"
      }
    },
    {
      "cell_type": "code",
      "source": [
        "from sklearn.metrics import accuracy_score\n",
        "from sklearn.metrics import f1_score"
      ],
      "metadata": {
        "id": "vM6rv6W-W7Mq"
      },
      "execution_count": 22,
      "outputs": []
    },
    {
      "cell_type": "code",
      "source": [
        "accuracy_score(y_test, y_hat)\n"
      ],
      "metadata": {
        "colab": {
          "base_uri": "https://localhost:8080/"
        },
        "id": "e5QF-gG1W7QY",
        "outputId": "f9f11947-c473-48dc-8803-c83dc9f7dd99"
      },
      "execution_count": 23,
      "outputs": [
        {
          "output_type": "execute_result",
          "data": {
            "text/plain": [
              "1.0"
            ]
          },
          "metadata": {},
          "execution_count": 23
        }
      ]
    },
    {
      "cell_type": "code",
      "source": [
        "f1_score(y_test, y_hat, average='macro')"
      ],
      "metadata": {
        "colab": {
          "base_uri": "https://localhost:8080/"
        },
        "id": "7lRFMTJUW7TZ",
        "outputId": "4da2f8b7-6b09-4040-ff42-8987a4bd7c9a"
      },
      "execution_count": 24,
      "outputs": [
        {
          "output_type": "execute_result",
          "data": {
            "text/plain": [
              "1.0"
            ]
          },
          "metadata": {},
          "execution_count": 24
        }
      ]
    },
    {
      "cell_type": "code",
      "source": [
        "X_test_with_label = X_test\n",
        "X_test_with_label[\"Correct\"] = y_test == y_hat\n",
        "print(y_test == y_hat)"
      ],
      "metadata": {
        "colab": {
          "base_uri": "https://localhost:8080/"
        },
        "outputId": "e427f32f-925c-412f-9bdf-4a52a1d00abe",
        "id": "2MUkZPyPcge0"
      },
      "execution_count": 25,
      "outputs": [
        {
          "output_type": "stream",
          "name": "stdout",
          "text": [
            "[ True  True  True  True  True  True  True  True  True  True  True  True\n",
            "  True  True  True  True  True  True  True  True  True  True  True  True\n",
            "  True  True  True  True  True  True]\n"
          ]
        }
      ]
    },
    {
      "cell_type": "markdown",
      "source": [
        "#Plot\n",
        "Para as Pétalas corretamente predictas e erros de predição"
      ],
      "metadata": {
        "id": "Dri_eIEqcge2"
      }
    },
    {
      "cell_type": "code",
      "source": [
        "sns.scatterplot(data=X_test_with_label, x=\"Sepal.Length\", y=\"Sepal.Width\", hue=\"Correct\")"
      ],
      "metadata": {
        "colab": {
          "base_uri": "https://localhost:8080/",
          "height": 466
        },
        "outputId": "1739fbef-4090-4160-e515-52cee1cca887",
        "id": "EyO4wdZQcge3"
      },
      "execution_count": 26,
      "outputs": [
        {
          "output_type": "execute_result",
          "data": {
            "text/plain": [
              "<Axes: xlabel='Sepal.Length', ylabel='Sepal.Width'>"
            ]
          },
          "metadata": {},
          "execution_count": 26
        },
        {
          "output_type": "display_data",
          "data": {
            "text/plain": [
              "<Figure size 640x480 with 1 Axes>"
            ],
            "image/png": "[encoded data removed]"
          },
          "metadata": {}
        }
      ]
    },
    {
      "cell_type": "markdown",
      "source": [
        "Este dataset é extremamente equilibrado , por isso esse resultado de 100%"
      ],
      "metadata": {
        "id": "Ak0beEI7ehav"
      }
    },
    {
      "cell_type": "markdown",
      "source": [
        "#Versicolor\n",
        "aqui vamos definir um y para versicolor"
      ],
      "metadata": {
        "id": "rwn9qzNBYoQQ"
      }
    },
    {
      "cell_type": "code",
      "source": [
        "y = dataset['Species']\n",
        "y = np.where(y == 'versicolor', -1, 1)\n",
        "y"
      ],
      "metadata": {
        "colab": {
          "base_uri": "https://localhost:8080/"
        },
        "outputId": "810a6fb6-a761-4bf3-e457-224d680f2343",
        "id": "ax1RYBMKPTfi"
      },
      "execution_count": 27,
      "outputs": [
        {
          "output_type": "execute_result",
          "data": {
            "text/plain": [
              "array([ 1,  1,  1,  1,  1,  1,  1,  1,  1,  1,  1,  1,  1,  1,  1,  1,  1,\n",
              "        1,  1,  1,  1,  1,  1,  1,  1,  1,  1,  1,  1,  1,  1,  1,  1,  1,\n",
              "        1,  1,  1,  1,  1,  1,  1,  1,  1,  1,  1,  1,  1,  1,  1,  1, -1,\n",
              "       -1, -1, -1, -1, -1, -1, -1, -1, -1, -1, -1, -1, -1, -1, -1, -1, -1,\n",
              "       -1, -1, -1, -1, -1, -1, -1, -1, -1, -1, -1, -1, -1, -1, -1, -1, -1,\n",
              "       -1, -1, -1, -1, -1, -1, -1, -1, -1, -1, -1, -1, -1, -1, -1,  1,  1,\n",
              "        1,  1,  1,  1,  1,  1,  1,  1,  1,  1,  1,  1,  1,  1,  1,  1,  1,\n",
              "        1,  1,  1,  1,  1,  1,  1,  1,  1,  1,  1,  1,  1,  1,  1,  1,  1,\n",
              "        1,  1,  1,  1,  1,  1,  1,  1,  1,  1,  1,  1,  1,  1])"
            ]
          },
          "metadata": {},
          "execution_count": 27
        }
      ]
    },
    {
      "cell_type": "markdown",
      "source": [
        "##Novo treinamento"
      ],
      "metadata": {
        "id": "_y505UTwZQ8_"
      }
    },
    {
      "cell_type": "code",
      "source": [
        "X_train,X_test,y_train,y_test = train_test_split(X, y, test_size=0.2, random_state=SEED)"
      ],
      "metadata": {
        "id": "VeONmsq3PTfi"
      },
      "execution_count": 28,
      "outputs": []
    },
    {
      "cell_type": "code",
      "source": [
        "X_train.shape"
      ],
      "metadata": {
        "colab": {
          "base_uri": "https://localhost:8080/"
        },
        "outputId": "079bc0c9-eb56-4e39-9b5b-297eac9fee05",
        "id": "vncW_AGnPTfj"
      },
      "execution_count": 29,
      "outputs": [
        {
          "output_type": "execute_result",
          "data": {
            "text/plain": [
              "(120, 4)"
            ]
          },
          "metadata": {},
          "execution_count": 29
        }
      ]
    },
    {
      "cell_type": "code",
      "source": [
        "modelo = perceptron(X_train, y_train, 0.5, 1, 100)"
      ],
      "metadata": {
        "id": "1cLjKtXKPTfj",
        "colab": {
          "base_uri": "https://localhost:8080/"
        },
        "outputId": "bc3b3058-e41e-4a89-e6ad-50617f5a0180"
      },
      "execution_count": 30,
      "outputs": [
        {
          "output_type": "stream",
          "name": "stdout",
          "text": [
            "Epoch: 0\n",
            "j :39\n",
            "u :0.0\n",
            "y_hat :-1\n",
            "Epoch: 1\n",
            "j :84\n",
            "u :129.94\n",
            "y_hat :1\n",
            "Epoch: 2\n",
            "j :28\n",
            "u :152.76\n",
            "y_hat :1\n",
            "Epoch: 3\n",
            "j :90\n",
            "u :3.92\n",
            "y_hat :1\n",
            "Epoch: 4\n",
            "j :51\n",
            "u :-3.999999999999999\n",
            "y_hat :-1\n",
            "Epoch: 5\n",
            "j :81\n",
            "u :77.0\n",
            "y_hat :1\n",
            "Epoch: 6\n",
            "j :49\n",
            "u :83.52\n",
            "y_hat :1\n",
            "Epoch: 7\n",
            "j :59\n",
            "u :99.2\n",
            "y_hat :1\n",
            "Epoch: 8\n",
            "j :81\n",
            "u :-20.68\n",
            "y_hat :-1\n",
            "Epoch: 9\n",
            "j :32\n",
            "u :46.78000000000001\n",
            "y_hat :1\n",
            "Epoch: 10\n",
            "j :16\n",
            "u :48.68000000000001\n",
            "y_hat :1\n",
            "Epoch: 11\n",
            "j :102\n",
            "u :62.040000000000006\n",
            "y_hat :1\n",
            "Epoch: 12\n",
            "j :103\n",
            "u :59.0\n",
            "y_hat :1\n",
            "Epoch: 13\n",
            "j :98\n",
            "u :-111.45999999999998\n",
            "y_hat :-1\n",
            "Epoch: 14\n",
            "j :35\n",
            "u :73.0\n",
            "y_hat :1\n",
            "Epoch: 15\n",
            "j :44\n",
            "u :67.88\n",
            "y_hat :1\n",
            "Epoch: 16\n",
            "j :110\n",
            "u :68.17999999999999\n",
            "y_hat :1\n",
            "Epoch: 17\n",
            "j :51\n",
            "u :62.68\n",
            "y_hat :1\n",
            "Epoch: 18\n",
            "j :99\n",
            "u :66.83999999999999\n",
            "y_hat :1\n",
            "Epoch: 19\n",
            "j :117\n",
            "u :-73.26\n",
            "y_hat :-1\n",
            "Epoch: 20\n",
            "j :21\n",
            "u :-91.72\n",
            "y_hat :-1\n",
            "Epoch: 21\n",
            "j :42\n",
            "u :66.0\n",
            "y_hat :1\n",
            "Epoch: 22\n",
            "j :40\n",
            "u :79.64\n",
            "y_hat :1\n",
            "Epoch: 23\n",
            "j :41\n",
            "u :66.88000000000001\n",
            "y_hat :1\n",
            "Epoch: 24\n",
            "j :8\n",
            "u :-20.91999999999999\n",
            "y_hat :-1\n",
            "Epoch: 25\n",
            "j :46\n",
            "u :60.78000000000002\n",
            "y_hat :1\n",
            "Epoch: 26\n",
            "j :30\n",
            "u :48.220000000000006\n",
            "y_hat :1\n",
            "Epoch: 27\n",
            "j :20\n",
            "u :43.88000000000001\n",
            "y_hat :1\n",
            "Epoch: 28\n",
            "j :18\n",
            "u :23.419999999999998\n",
            "y_hat :1\n",
            "Epoch: 29\n",
            "j :101\n",
            "u :44.300000000000004\n",
            "y_hat :1\n",
            "Epoch: 30\n",
            "j :117\n",
            "u :21.56\n",
            "y_hat :1\n",
            "Epoch: 31\n",
            "j :65\n",
            "u :-97.78\n",
            "y_hat :-1\n",
            "Epoch: 32\n",
            "j :35\n",
            "u :-34.77999999999999\n",
            "y_hat :-1\n",
            "Epoch: 33\n",
            "j :58\n",
            "u :3.9400000000000084\n",
            "y_hat :1\n",
            "Epoch: 34\n",
            "j :20\n",
            "u :47.56000000000001\n",
            "y_hat :1\n",
            "Epoch: 35\n",
            "j :61\n",
            "u :53.34000000000001\n",
            "y_hat :1\n",
            "Epoch: 36\n",
            "j :43\n",
            "u :-0.9399999999999968\n",
            "y_hat :-1\n",
            "Epoch: 37\n",
            "j :50\n",
            "u :151.48000000000002\n",
            "y_hat :1\n",
            "Epoch: 38\n",
            "j :73\n",
            "u :21.559999999999995\n",
            "y_hat :1\n",
            "Epoch: 39\n",
            "j :16\n",
            "u :22.179999999999996\n",
            "y_hat :1\n",
            "Epoch: 40\n",
            "j :6\n",
            "u :53.14\n",
            "y_hat :1\n",
            "Epoch: 41\n",
            "j :23\n",
            "u :34.640000000000015\n",
            "y_hat :1\n",
            "Epoch: 42\n",
            "j :0\n",
            "u :-73.13999999999999\n",
            "y_hat :-1\n",
            "Epoch: 43\n",
            "j :21\n",
            "u :-121.52000000000001\n",
            "y_hat :-1\n",
            "Epoch: 44\n",
            "j :34\n",
            "u :73.98000000000002\n",
            "y_hat :1\n",
            "Epoch: 45\n",
            "j :13\n",
            "u :49.48000000000002\n",
            "y_hat :1\n",
            "Epoch: 46\n",
            "j :34\n",
            "u :73.98000000000002\n",
            "y_hat :1\n",
            "Epoch: 47\n",
            "j :48\n",
            "u :47.900000000000006\n",
            "y_hat :1\n",
            "Epoch: 48\n",
            "j :19\n",
            "u :-103.09999999999998\n",
            "y_hat :-1\n",
            "Epoch: 49\n",
            "j :54\n",
            "u :77.24000000000001\n",
            "y_hat :1\n",
            "Epoch: 50\n",
            "j :60\n",
            "u :67.88\n",
            "y_hat :1\n",
            "Epoch: 51\n",
            "j :27\n",
            "u :-55.85999999999999\n",
            "y_hat :-1\n",
            "Epoch: 52\n",
            "j :87\n",
            "u :-54.98\n",
            "y_hat :-1\n",
            "Epoch: 53\n",
            "j :54\n",
            "u :87.32000000000002\n",
            "y_hat :1\n",
            "Epoch: 54\n",
            "j :45\n",
            "u :110.50000000000003\n",
            "y_hat :1\n",
            "Epoch: 55\n",
            "j :71\n",
            "u :76.48\n",
            "y_hat :1\n",
            "Epoch: 56\n",
            "j :117\n",
            "u :-35.9\n",
            "y_hat :-1\n",
            "Epoch: 57\n",
            "j :47\n",
            "u :-36.699999999999996\n",
            "y_hat :-1\n",
            "Epoch: 58\n",
            "j :11\n",
            "u :-44.25999999999999\n",
            "y_hat :-1\n",
            "Epoch: 59\n",
            "j :26\n",
            "u :-34.57999999999999\n",
            "y_hat :-1\n",
            "Epoch: 60\n",
            "j :77\n",
            "u :-32.7\n",
            "y_hat :-1\n",
            "Epoch: 61\n",
            "j :65\n",
            "u :-35.67999999999999\n",
            "y_hat :-1\n",
            "Epoch: 62\n",
            "j :118\n",
            "u :3.320000000000008\n",
            "y_hat :1\n",
            "Epoch: 63\n",
            "j :24\n",
            "u :-25.679999999999993\n",
            "y_hat :-1\n",
            "Epoch: 64\n",
            "j :112\n",
            "u :-47.5\n",
            "y_hat :-1\n",
            "Epoch: 65\n",
            "j :106\n",
            "u :106.62\n",
            "y_hat :1\n",
            "Epoch: 66\n",
            "j :109\n",
            "u :-0.2799999999999949\n",
            "y_hat :-1\n",
            "Epoch: 67\n",
            "j :35\n",
            "u :159.26000000000005\n",
            "y_hat :1\n",
            "Epoch: 68\n",
            "j :30\n",
            "u :139.74000000000004\n",
            "y_hat :1\n",
            "Epoch: 69\n",
            "j :65\n",
            "u :177.44000000000003\n",
            "y_hat :1\n",
            "Epoch: 70\n",
            "j :50\n",
            "u :18.22000000000002\n",
            "y_hat :1\n",
            "Epoch: 71\n",
            "j :60\n",
            "u :-102.23999999999998\n",
            "y_hat :-1\n",
            "Epoch: 72\n",
            "j :113\n",
            "u :-55.899999999999984\n",
            "y_hat :-1\n",
            "Epoch: 73\n",
            "j :3\n",
            "u :-21.67999999999997\n",
            "y_hat :-1\n",
            "Epoch: 74\n",
            "j :77\n",
            "u :125.88\n",
            "y_hat :1\n",
            "Epoch: 75\n",
            "j :117\n",
            "u :-2.1799999999999944\n",
            "y_hat :-1\n",
            "Epoch: 76\n",
            "j :72\n",
            "u :29.860000000000007\n",
            "y_hat :1\n",
            "Epoch: 77\n",
            "j :27\n",
            "u :0.480000000000012\n",
            "y_hat :-1\n",
            "Epoch: 78\n",
            "j :57\n",
            "u :28.860000000000007\n",
            "y_hat :1\n",
            "Epoch: 79\n",
            "j :65\n",
            "u :4.960000000000009\n",
            "y_hat :1\n",
            "Epoch: 80\n",
            "j :71\n",
            "u :-129.29999999999998\n",
            "y_hat :-1\n",
            "Epoch: 81\n",
            "j :26\n",
            "u :-136.76\n",
            "y_hat :-1\n",
            "Epoch: 82\n",
            "j :16\n",
            "u :-151.2\n",
            "y_hat :-1\n",
            "Epoch: 83\n",
            "j :33\n",
            "u :-0.8399999999999963\n",
            "y_hat :-1\n",
            "Epoch: 84\n",
            "j :17\n",
            "u :167.92000000000002\n",
            "y_hat :1\n",
            "Epoch: 85\n",
            "j :45\n",
            "u :196.64\n",
            "y_hat :1\n",
            "Epoch: 86\n",
            "j :10\n",
            "u :134.48000000000002\n",
            "y_hat :1\n",
            "Epoch: 87\n",
            "j :5\n",
            "u :125.76000000000002\n",
            "y_hat :1\n",
            "Epoch: 88\n",
            "j :7\n",
            "u :132.48\n",
            "y_hat :1\n",
            "Epoch: 89\n",
            "j :12\n",
            "u :141.04\n",
            "y_hat :1\n",
            "Epoch: 90\n",
            "j :72\n",
            "u :133.76000000000002\n",
            "y_hat :1\n",
            "Epoch: 91\n",
            "j :34\n",
            "u :135.44000000000003\n",
            "y_hat :1\n",
            "Epoch: 92\n",
            "j :84\n",
            "u :130.56\n",
            "y_hat :1\n",
            "Epoch: 93\n",
            "j :57\n",
            "u :125.20000000000002\n",
            "y_hat :1\n",
            "Epoch: 94\n",
            "j :80\n",
            "u :137.92000000000002\n",
            "y_hat :1\n",
            "Epoch: 95\n",
            "j :39\n",
            "u :146.72\n",
            "y_hat :1\n",
            "Epoch: 96\n",
            "j :114\n",
            "u :129.76\n",
            "y_hat :1\n",
            "Epoch: 97\n",
            "j :104\n",
            "u :165.92000000000002\n",
            "y_hat :1\n",
            "Epoch: 98\n",
            "j :26\n",
            "u :-0.09999999999999609\n",
            "y_hat :-1\n",
            "Epoch: 99\n",
            "j :18\n",
            "u :-10.699999999999996\n",
            "y_hat :-1\n"
          ]
        }
      ]
    },
    {
      "cell_type": "code",
      "source": [
        "modelo"
      ],
      "metadata": {
        "colab": {
          "base_uri": "https://localhost:8080/"
        },
        "outputId": "14e33923-88f8-46f1-e792-0d46addbcdf1",
        "id": "w58i6sg5PTfj"
      },
      "execution_count": 31,
      "outputs": [
        {
          "output_type": "execute_result",
          "data": {
            "text/plain": [
              "[Sepal.Length    13.4\n",
              " Sepal.Width     17.2\n",
              " Petal.Length     5.2\n",
              " Petal.Width     10.6\n",
              " dtype: float64,\n",
              " 2]"
            ]
          },
          "metadata": {},
          "execution_count": 31
        }
      ]
    },
    {
      "cell_type": "code",
      "source": [
        "y_test"
      ],
      "metadata": {
        "colab": {
          "base_uri": "https://localhost:8080/"
        },
        "outputId": "13a47688-f39c-4ae6-e00e-ce0a205e8ec5",
        "id": "_5GZb6nTPTfk"
      },
      "execution_count": 32,
      "outputs": [
        {
          "output_type": "execute_result",
          "data": {
            "text/plain": [
              "array([-1, -1,  1,  1, -1,  1,  1,  1, -1,  1, -1,  1,  1, -1,  1, -1,  1,\n",
              "        1,  1, -1, -1, -1, -1, -1,  1,  1,  1, -1,  1,  1])"
            ]
          },
          "metadata": {},
          "execution_count": 32
        }
      ]
    },
    {
      "cell_type": "code",
      "source": [
        "y_hat = prediction(X_test, modelo, 0.5)\n",
        "y_hat"
      ],
      "metadata": {
        "colab": {
          "base_uri": "https://localhost:8080/"
        },
        "outputId": "b7cd80a2-6143-46a2-941a-40faa43f1a5c",
        "id": "lPJf0-QnPTfk"
      },
      "execution_count": 33,
      "outputs": [
        {
          "output_type": "execute_result",
          "data": {
            "text/plain": [
              "array([1, 1, 1, 1, 1, 1, 1, 1, 1, 1, 1, 1, 1, 1, 1, 1, 1, 1, 1, 1, 1, 1,\n",
              "       1, 1, 1, 1, 1, 1, 1, 1])"
            ]
          },
          "metadata": {},
          "execution_count": 33
        }
      ]
    },
    {
      "cell_type": "code",
      "source": [
        "pd.crosstab(y_test, y_hat, rownames=['True'], colnames=['Predicted'], margins=True)"
      ],
      "metadata": {
        "colab": {
          "base_uri": "https://localhost:8080/",
          "height": 175
        },
        "outputId": "9fde4e8b-dbf8-40b4-f9a0-f428013df901",
        "id": "YCA2dRHCPTfk"
      },
      "execution_count": 34,
      "outputs": [
        {
          "output_type": "execute_result",
          "data": {
            "text/plain": [
              "Predicted   1  All\n",
              "True              \n",
              "-1         13   13\n",
              "1          17   17\n",
              "All        30   30"
            ],
            "text/html": [
              "\n",
              "  <div id=\"df-581430c5-c25b-45c1-ac94-586b4f151cf8\">\n",
              "    <div class=\"colab-df-container\">\n",
              "      <div>\n",
              "<style scoped>\n",
              "    .dataframe tbody tr th:only-of-type {\n",
              "        vertical-align: middle;\n",
              "    }\n",
              "\n",
              "    .dataframe tbody tr th {\n",
              "        vertical-align: top;\n",
              "    }\n",
              "\n",
              "    .dataframe thead th {\n",
              "        text-align: right;\n",
              "    }\n",
              "</style>\n",
              "<table border=\"1\" class=\"dataframe\">\n",
              "  <thead>\n",
              "    <tr style=\"text-align: right;\">\n",
              "      <th>Predicted</th>\n",
              "      <th>1</th>\n",
              "      <th>All</th>\n",
              "    </tr>\n",
              "    <tr>\n",
              "      <th>True</th>\n",
              "      <th></th>\n",
              "      <th></th>\n",
              "    </tr>\n",
              "  </thead>\n",
              "  <tbody>\n",
              "    <tr>\n",
              "      <th>-1</th>\n",
              "      <td>13</td>\n",
              "      <td>13</td>\n",
              "    </tr>\n",
              "    <tr>\n",
              "      <th>1</th>\n",
              "      <td>17</td>\n",
              "      <td>17</td>\n",
              "    </tr>\n",
              "    <tr>\n",
              "      <th>All</th>\n",
              "      <td>30</td>\n",
              "      <td>30</td>\n",
              "    </tr>\n",
              "  </tbody>\n",
              "</table>\n",
              "</div>\n",
              "      <button class=\"colab-df-convert\" onclick=\"convertToInteractive('df-581430c5-c25b-45c1-ac94-586b4f151cf8')\"\n",
              "              title=\"Convert this dataframe to an interactive table.\"\n",
              "              style=\"display:none;\">\n",
              "        \n",
              "  <svg xmlns=\"http://www.w3.org/2000/svg\" height=\"24px\"viewBox=\"0 0 24 24\"\n",
              "       width=\"24px\">\n",
              "    <path d=\"M0 0h24v24H0V0z\" fill=\"none\"/>\n",
              "    <path d=\"M18.56 5.44l.94 2.06.94-2.06 2.06-.94-2.06-.94-.94-2.06-.94 2.06-2.06.94zm-11 1L8.5 8.5l.94-2.06 2.06-.94-2.06-.94L8.5 2.5l-.94 2.06-2.06.94zm10 10l.94 2.06.94-2.06 2.06-.94-2.06-.94-.94-2.06-.94 2.06-2.06.94z\"/><path d=\"M17.41 7.96l-1.37-1.37c-.4-.4-.92-.59-1.43-.59-.52 0-1.04.2-1.43.59L10.3 9.45l-7.72 7.72c-.78.78-.78 2.05 0 2.83L4 21.41c.39.39.9.59 1.41.59.51 0 1.02-.2 1.41-.59l7.78-7.78 2.81-2.81c.8-.78.8-2.07 0-2.86zM5.41 20L4 18.59l7.72-7.72 1.47 1.35L5.41 20z\"/>\n",
              "  </svg>\n",
              "      </button>\n",
              "      \n",
              "  <style>\n",
              "    .colab-df-container {\n",
              "      display:flex;\n",
              "      flex-wrap:wrap;\n",
              "      gap: 12px;\n",
              "    }\n",
              "\n",
              "    .colab-df-convert {\n",
              "      background-color: #E8F0FE;\n",
              "      border: none;\n",
              "      border-radius: 50%;\n",
              "      cursor: pointer;\n",
              "      display: none;\n",
              "      fill: #1967D2;\n",
              "      height: 32px;\n",
              "      padding: 0 0 0 0;\n",
              "      width: 32px;\n",
              "    }\n",
              "\n",
              "    .colab-df-convert:hover {\n",
              "      background-color: #E2EBFA;\n",
              "      box-shadow: 0px 1px 2px rgba(60, 64, 67, 0.3), 0px 1px 3px 1px rgba(60, 64, 67, 0.15);\n",
              "      fill: #174EA6;\n",
              "    }\n",
              "\n",
              "    [theme=dark] .colab-df-convert {\n",
              "      background-color: #3B4455;\n",
              "      fill: #D2E3FC;\n",
              "    }\n",
              "\n",
              "    [theme=dark] .colab-df-convert:hover {\n",
              "      background-color: #434B5C;\n",
              "      box-shadow: 0px 1px 3px 1px rgba(0, 0, 0, 0.15);\n",
              "      filter: drop-shadow(0px 1px 2px rgba(0, 0, 0, 0.3));\n",
              "      fill: #FFFFFF;\n",
              "    }\n",
              "  </style>\n",
              "\n",
              "      <script>\n",
              "        const buttonEl =\n",
              "          document.querySelector('#df-581430c5-c25b-45c1-ac94-586b4f151cf8 button.colab-df-convert');\n",
              "        buttonEl.style.display =\n",
              "          google.colab.kernel.accessAllowed ? 'block' : 'none';\n",
              "\n",
              "        async function convertToInteractive(key) {\n",
              "          const element = document.querySelector('#df-581430c5-c25b-45c1-ac94-586b4f151cf8');\n",
              "          const dataTable =\n",
              "            await google.colab.kernel.invokeFunction('convertToInteractive',\n",
              "                                                     [key], {});\n",
              "          if (!dataTable) return;\n",
              "\n",
              "          const docLinkHtml = 'Like what you see? Visit the ' +\n",
              "            '<a target=\"_blank\" href=https://colab.research.google.com/notebooks/data_table.ipynb>data table notebook</a>'\n",
              "            + ' to learn more about interactive tables.';\n",
              "          element.innerHTML = '';\n",
              "          dataTable['output_type'] = 'display_data';\n",
              "          await google.colab.output.renderOutput(dataTable, element);\n",
              "          const docLink = document.createElement('div');\n",
              "          docLink.innerHTML = docLinkHtml;\n",
              "          element.appendChild(docLink);\n",
              "        }\n",
              "      </script>\n",
              "    </div>\n",
              "  </div>\n",
              "  "
            ]
          },
          "metadata": {},
          "execution_count": 34
        }
      ]
    },
    {
      "cell_type": "markdown",
      "source": [
        "##Validação"
      ],
      "metadata": {
        "id": "MLW_ulfyiY4g"
      }
    },
    {
      "cell_type": "code",
      "source": [
        "from sklearn.metrics import accuracy_score\n",
        "from sklearn.metrics import f1_score"
      ],
      "metadata": {
        "id": "Rx8jKtzhPTfk"
      },
      "execution_count": 35,
      "outputs": []
    },
    {
      "cell_type": "code",
      "source": [
        "accuracy_score(y_test, y_hat)"
      ],
      "metadata": {
        "colab": {
          "base_uri": "https://localhost:8080/"
        },
        "outputId": "9237e580-ec27-48db-ed29-15ac2eecfb5f",
        "id": "VXBAcWhLPTfl"
      },
      "execution_count": 36,
      "outputs": [
        {
          "output_type": "execute_result",
          "data": {
            "text/plain": [
              "0.5666666666666667"
            ]
          },
          "metadata": {},
          "execution_count": 36
        }
      ]
    },
    {
      "cell_type": "code",
      "source": [
        "f1_score(y_test, y_hat, average='macro')"
      ],
      "metadata": {
        "outputId": "87b6e2f3-9deb-4230-c04e-f8b6b0d6300e",
        "colab": {
          "base_uri": "https://localhost:8080/"
        },
        "id": "wClcjMw3PTfl"
      },
      "execution_count": 37,
      "outputs": [
        {
          "output_type": "execute_result",
          "data": {
            "text/plain": [
              "0.36170212765957444"
            ]
          },
          "metadata": {},
          "execution_count": 37
        }
      ]
    },
    {
      "cell_type": "code",
      "source": [
        "X_test_with_label = X_test\n",
        "X_test_with_label[\"Correct\"] = y_test == y_hat\n",
        "print(y_test == y_hat)"
      ],
      "metadata": {
        "colab": {
          "base_uri": "https://localhost:8080/"
        },
        "id": "z1Now2_IQVbK",
        "outputId": "d7f76b5b-208f-4fb9-a1c3-117c20e0b6dc"
      },
      "execution_count": 38,
      "outputs": [
        {
          "output_type": "stream",
          "name": "stdout",
          "text": [
            "[False False  True  True False  True  True  True False  True False  True\n",
            "  True False  True False  True  True  True False False False False False\n",
            "  True  True  True False  True  True]\n"
          ]
        }
      ]
    },
    {
      "cell_type": "markdown",
      "source": [
        "##Plot"
      ],
      "metadata": {
        "id": "qszI4PWgvCI9"
      }
    },
    {
      "cell_type": "markdown",
      "source": [
        "Pétalas"
      ],
      "metadata": {
        "id": "gq2ca1Qtixu5"
      }
    },
    {
      "cell_type": "code",
      "source": [
        "sns.scatterplot(data=X_test_with_label, x=\"Petal.Length\", y=\"Petal.Width\", hue=\"Correct\")"
      ],
      "metadata": {
        "colab": {
          "base_uri": "https://localhost:8080/",
          "height": 466
        },
        "id": "Gg31y0GfRUOs",
        "outputId": "209959f3-0b55-4235-b372-8203d0b8735c"
      },
      "execution_count": 39,
      "outputs": [
        {
          "output_type": "execute_result",
          "data": {
            "text/plain": [
              "<Axes: xlabel='Petal.Length', ylabel='Petal.Width'>"
            ]
          },
          "metadata": {},
          "execution_count": 39
        },
        {
          "output_type": "display_data",
          "data": {
            "text/plain": [
              "<Figure size 640x480 with 1 Axes>"
            ],
            "image/png": "[encoded data removed]"
          },
          "metadata": {}
        }
      ]
    },
    {
      "cell_type": "markdown",
      "source": [],
      "metadata": {
        "id": "djjno_mPcBkO"
      }
    },
    {
      "cell_type": "markdown",
      "source": [
        "Sépalas"
      ],
      "metadata": {
        "id": "VMGiDlQ7vMOt"
      }
    },
    {
      "cell_type": "code",
      "source": [
        "sns.scatterplot(data=X_test_with_label, x=\"Sepal.Length\", y=\"Sepal.Width\", hue=\"Correct\")"
      ],
      "metadata": {
        "colab": {
          "base_uri": "https://localhost:8080/",
          "height": 466
        },
        "id": "aeVLrItCRRkO",
        "outputId": "c83960b3-7845-4977-9edd-3bc491ae9c3b"
      },
      "execution_count": 40,
      "outputs": [
        {
          "output_type": "execute_result",
          "data": {
            "text/plain": [
              "<Axes: xlabel='Sepal.Length', ylabel='Sepal.Width'>"
            ]
          },
          "metadata": {},
          "execution_count": 40
        },
        {
          "output_type": "display_data",
          "data": {
            "text/plain": [
              "<Figure size 640x480 with 1 Axes>"
            ],
            "image/png": "[encoded data removed]"
          },
          "metadata": {}
        }
      ]
    },
    {
      "cell_type": "code",
      "source": [
        "modelo"
      ],
      "metadata": {
        "colab": {
          "base_uri": "https://localhost:8080/"
        },
        "id": "VeIKODvscNN1",
        "outputId": "6d203206-141a-43d4-d1c5-0cd5370c42a5"
      },
      "execution_count": 41,
      "outputs": [
        {
          "output_type": "execute_result",
          "data": {
            "text/plain": [
              "[Sepal.Length    13.4\n",
              " Sepal.Width     17.2\n",
              " Petal.Length     5.2\n",
              " Petal.Width     10.6\n",
              " dtype: float64,\n",
              " 2]"
            ]
          },
          "metadata": {},
          "execution_count": 41
        }
      ]
    },
    {
      "cell_type": "markdown",
      "source": [
        "# Conclusão\n",
        "\n",
        "\n",
        "A implementação do algorítmo demonstrou ser funcional e apresentou resultados altamente eficientes ao lidar com a espécie Setosa. A distinção clara de seus parâmetros permitiu uma classificação precisa e confiável. No entanto, quando se trata da espécie Versicolor, as medidas utilizadas revelaram-se bastante semelhantes às de outras espécies, o que resultou em resultados insatisfatórios na criação de agrupamentos preditivos.\n",
        "\n",
        "É importante ressaltar que o objetivo principal deste projeto era testar a funcionalidade da implementação, buscando utilizá-la como base para um projeto futuro de diagnóstico de doenças cardíacas. Nesse sentido, embora os resultados não tenham sido ideais para a espécie Versicolor, essa etapa permitiu obter um conhecimento valioso sobre o funcionamento da função e sua aplicabilidade no contexto do diagnóstico médico.\n",
        "\n",
        "Com base nas lições aprendidas durante esta implementação, é possível direcionar esforços para o aprimoramento do modelo,com criação de classes e considerando outras variáveis e métricas relevantes para o diagnóstico de doenças cardíacas. Além disso, é fundamental investigar e validar a eficácia do modelo em um conjunto de dados mais abrangente, que contemple uma variedade maior de espécies e características.\n",
        "\n",
        "Em suma, embora o projeto tenha revelado limitações na criação de agrupamentos predictivos para a espécie Versicolor, ele foi bem-sucedido em seu objetivo primordial de testar a implementação da função. Essa etapa inicial é fundamental para o desenvolvimento futuro de um projeto de diagnóstico de doenças cardíacas mais robusto e confiável, que possa fornecer informações precisas e auxiliar no cuidado e tratamento de pacientes."
      ],
      "metadata": {
        "id": "qEjik-9bAvn7"
      }
    }
  ]
}